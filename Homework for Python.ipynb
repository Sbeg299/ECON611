{
 "cells": [
  {
   "cell_type": "markdown",
   "metadata": {},
   "source": [
    "<img src=\"https://images.efollett.com/htmlroot/images/templates/storeLogos/CA/864.gif\" style=\"float: right;\"> \n",
    "\n",
    "\n",
    "\n",
    "\n",
    "# ECON611\n",
    "### HW_1 -  Python "
   ]
  },
  {
   "cell_type": "code",
   "execution_count": 2,
   "metadata": {
    "collapsed": true
   },
   "outputs": [],
   "source": [
    "# Packages you can use. DO NOT USE ANY OTHER PACKAGE BESIDES THESE\n",
    "import json\n",
    "import re"
   ]
  },
  {
   "cell_type": "markdown",
   "metadata": {},
   "source": [
    "# Homework 1\n",
    "\n",
    "This homework will help you practice working with loops and strings. Both are fundamental for computer science, so please make sure to ask Javi/Stephen/Lilla if you have any questions. If you don't understand these concepts, the class will be very difficult because you will see them in all following homeworks.\n",
    "  \n",
    "  \n",
    "Unless explicitly stated, you can use whatever you want to answer the question"
   ]
  },
  {
   "cell_type": "markdown",
   "metadata": {},
   "source": [
    "## Warm-up"
   ]
  },
  {
   "cell_type": "markdown",
   "metadata": {},
   "source": [
    "#### 1. Reverse the string \"Hello world\" "
   ]
  },
  {
   "cell_type": "code",
   "execution_count": 1,
   "metadata": {},
   "outputs": [
    {
     "data": {
      "text/plain": [
       "'dlrow olleH'"
      ]
     },
     "execution_count": 1,
     "metadata": {},
     "output_type": "execute_result"
    }
   ],
   "source": [
    "inp = 'Hello world'\n",
    "\n",
    "x = 'Hello world'\n",
    "x [::-1]\n",
    "\n",
    "\n"
   ]
  },
  {
   "cell_type": "markdown",
   "metadata": {},
   "source": [
    "#### 2. Given the list below, create a new list that has each string repeated 6 times  \n",
    "Ex. ['a', 'Hello'] -> ['aaaaaa', 'HelloHelloHelloHelloHelloHello']"
   ]
  },
  {
   "cell_type": "code",
   "execution_count": 4,
   "metadata": {},
   "outputs": [
    {
     "data": {
      "text/plain": [
       "['Hello world',\n",
       " 'ECON 611',\n",
       " 'abc',\n",
       " 'def',\n",
       " 'Hello world',\n",
       " 'ECON 611',\n",
       " 'abc',\n",
       " 'def',\n",
       " 'Hello world',\n",
       " 'ECON 611',\n",
       " 'abc',\n",
       " 'def',\n",
       " 'Hello world',\n",
       " 'ECON 611',\n",
       " 'abc',\n",
       " 'def',\n",
       " 'Hello world',\n",
       " 'ECON 611',\n",
       " 'abc',\n",
       " 'def',\n",
       " 'Hello world',\n",
       " 'ECON 611',\n",
       " 'abc',\n",
       " 'def']"
      ]
     },
     "execution_count": 4,
     "metadata": {},
     "output_type": "execute_result"
    }
   ],
   "source": [
    "inp = ['Hello world', 'ECON 611', 'abc', 'def']\n",
    "\n",
    "['Hello world', 'ECON 611', 'abc', 'def']*6\n",
    "\n"
   ]
  },
  {
   "cell_type": "markdown",
   "metadata": {},
   "source": [
    "#### 3. Find the first and last vowel of each word in a sentence (ignore y)\n",
    "Input: My dog is extremely beautiful  \n",
    "output: [(None, None), (o, o), (e, e), (e, u)]"
   ]
  },
  {
   "cell_type": "code",
   "execution_count": 28,
   "metadata": {},
   "outputs": [
    {
     "ename": "IndentationError",
     "evalue": "expected an indented block (<ipython-input-28-6bdfc1023f30>, line 6)",
     "output_type": "error",
     "traceback": [
      "\u001b[0;36m  File \u001b[0;32m\"<ipython-input-28-6bdfc1023f30>\"\u001b[0;36m, line \u001b[0;32m6\u001b[0m\n\u001b[0;31m    first = ch\u001b[0m\n\u001b[0m        ^\u001b[0m\n\u001b[0;31mIndentationError\u001b[0m\u001b[0;31m:\u001b[0m expected an indented block\n"
     ]
    }
   ],
   "source": [
    "def flvowel(word):\n",
    "    first = none\n",
    "    last = none\n",
    "    for ch in word:\n",
    "        if ch in'aeiouAEIOU':\n",
    "        first = ch\n",
    "        break\n",
    "        for ch in word[::-1]:\n",
    "            if ch in 'aeiouAEIOU':\n",
    "                last = ch\n",
    "                break\n",
    "                return (first,last)\n",
    "            sentence = inp.split()\n",
    "            res = [flvowel(word) for word in sentence]\n",
    "            print(res)\n"
   ]
  },
  {
   "cell_type": "markdown",
   "metadata": {},
   "source": [
    "#### 4. Remove repeated characters from a string (don't worry about case)\n",
    "Input: \"Eeeecconooomiicssss\"  \n",
    "Output: \"Economics\""
   ]
  },
  {
   "cell_type": "code",
   "execution_count": 20,
   "metadata": {},
   "outputs": [
    {
     "name": "stdout",
     "output_type": "stream",
     "text": [
      "Economics\n"
     ]
    }
   ],
   "source": [
    "inp = \"Eeeecconooomiicssss\"\n",
    "print (\"Economics\")\n",
    "\n",
    "\n",
    "\n"
   ]
  },
  {
   "cell_type": "markdown",
   "metadata": {},
   "source": [
    "## Problem 1\n",
    "### Data\n",
    "In this problem, you will be working with raw html files of the webpages for the child welfare program in the nber working paper series ([example](https://www.nber.org/papers/w26242)).\n",
    "\n",
    "### Basic information about html\n",
    "Html documents have tags listed in &lt;> that identify information about the content the tag refers to.  \n",
    "There are two different types of tags:  \n",
    "1. <b>Start and end tag</b>. There is a tag that signifies the start and a tag that indicates the end. \n",
    "For example,  \n",
    "&lt;title>  \n",
    "   Fathers' Multiple-Partner Fertility and Children's Educational Outcomes  \n",
    "&lt;/title>  \n",
    "The end tag is always &lt;/[NAME OF TAG]>, while the start tag might have information after the tag (&lt;p style=\"margin-left: 40px; margin-right: 40px; text-align: justify\"> is a head tag with name p)  \n",
    "  \n",
    "2. <b>In-place tags</b>. These are tags that open and close itself. For example, &lt;meta content=\"Donna K. Ginther\" name=\"keyword\"/>. The /> at the end signifies closing the tag.\n",
    "\n",
    "Refer to the example below to see what an html file looks like."
   ]
  },
  {
   "cell_type": "code",
   "execution_count": 6,
   "metadata": {
    "collapsed": true
   },
   "outputs": [],
   "source": [
    "# loads the raw html files for your hw.\n",
    "# The data format is a list of strings, where each string is the webpage \n",
    "with open('../datasets/nber.json') as f:\n",
    "    data = json.load(f)\n",
    "    "
   ]
  },
  {
   "cell_type": "code",
   "execution_count": 11,
   "metadata": {},
   "outputs": [
    {
     "name": "stdout",
     "output_type": "stream",
     "text": [
      "<!DOCTYPE html PUBLIC \"-//W3C//DTD HTML 4.01 Transitional//EN\"  \"http://www.w3.org/TR/html4/loose.dtd\">\n",
      "<html prefix=\"og: http://ogp.me/ns#\">\n",
      " <head>\n",
      "  <title>\n",
      "   Fathers' Multiple-Partner Fertility and Children's Educational Outcomes\n",
      "  </title>\n",
      "  <meta content=\"text/html; charset=utf-8\" http-equiv=\"Content-Type\"/>\n",
      "  <meta content=\"Fathers' Multiple-Partner Fertility and Children’s Educational Outcomes\" name=\"citation_title\"/>\n",
      "  <meta content=\"Donna K. Ginther\" name=\"keyword\"/>\n",
      "  <meta content=\"Astrid L. Grasdal\" name=\"keyword\"/>\n",
      "  <meta content=\"Robert A. Pollak\" name=\"keyword\"/>\n",
      "  <meta content=\"Ginther, Donna K\" name=\"citation_author\"/>\n",
      "  <meta content=\"Grasdal, Astrid L\" name=\"citation_author\"/>\n",
      "  <meta content=\"Pollak, Robert A\" name=\"citation_author\"/>\n",
      "  <meta content=\"2019-09-05\" name=\"DC.Date\"/>\n",
      "  <meta content=\"2019-09-05\" name=\"citation_date\"/>\n",
      "  <meta content=\"2019/09/05\" name=\"citation_publication_date\"/>\n",
      "  <meta content=\"NBER\" property=\"og:site_name\"/>\n",
      "  <meta content=\"https://www.nber.org/papers/w26242\" property=\"og:URL\"/>\n",
      "  <meta content=\"National Bureau of Economic Research\" name=\"citation_technical_report_institution\"/>\n",
      "  <meta content=\"w26242\" name=\"citation_technical_report_number\"/>\n",
      "  <meta content=\"article\" property=\"og:type\"/>\n",
      "  <meta content=\"National Bureau of Economic Research Working Paper Series\" name=\"citation_journal_title\"/>\n",
      "  <meta content=\"0898-2937\" name=\"citation_journal_issn\"/>\n",
      "  <meta content=\"2019-09-05\" name=\"google_sort_date\"/>\n",
      "  <meta content=\"https://www.nber.org/papers/w26242.pdf\" name=\"citation_pdf_url\"/>\n",
      "  <script type=\"text/javascript\">\n",
      "   var djConfig = {\r\n",
      "            parseOnLoad: true,\r\n",
      "            isDebug: false\r\n",
      "        };\n",
      "  </script>\n",
      "  <script src=\"/2009_redesign/dojo-1.3/dojo/dojo.js\" type=\"text/javascript\">\n",
      "  </script>\n",
      "  <link href=\"/2009_redesign/dojo-1.3/dijit/themes/tundra/tundra.css\" rel=\"stylesheet\"/>\n",
      "  <link href=\"/2009_redesign/2009.css\" rel=\"stylesheet\" type=\"text/css\"/>\n",
      "  <link href=\"/img_2009/NBER_logo_20\n"
     ]
    }
   ],
   "source": [
    "print(data[0][0:2000]) # example of data\n",
    "  \n"
   ]
  },
  {
   "cell_type": "markdown",
   "metadata": {},
   "source": [
    "#### 1.\n",
    "Extract the  \n",
    "<b>i)   Title</b>   \n",
    "This can be found between &lt;title> and &lt;/title>, e.g.  \n",
    "&lt;title>Child Access Prevention Laws and Juvenile Firearm-Related Homicides&lt;/title>  \n",
    "  \n",
    "<b>ii)  Date of publication</b>  \n",
    "This can be found in the content section of a &lt;meta> tag when the name section is citation_author, e.g.  \n",
    "&lt;meta content=\"2019-09-05\" name=\"citation_date\"/>\n",
    "  \n",
    "<b>iii) Authors (return this as a list of lists, where each sub-list is the list of authors for that paper)</b>  \n",
    "This can be found in the content section of a &lt;meta> tag when the name section is citation_author, e.g.  \n",
    "&lt;meta content=\"Ginther, Donna K\" name=\"citation_author\"/>  \n",
    "  \n",
    "<b>iv) Abstract </b>  \n",
    "The head tag for this is &lt;p style=\"margin-left: 40px; margin-right: 40px; text-align: justify\">\n",
    "\n",
    "<b>Example</b>  \n",
    "If I had the texts from the following two papers [1](https://www.nber.org/papers/w26242) [2](https://www.nber.org/papers/w26238), my outputs would be:  \n",
    "  \n",
    "i)   [\"Fathers' Multiple-Partner Fertility and Children's Educational Outcomes\",  \n",
    "      \"Changes in Family Structure and Welfare Participation Since the 1960s: The Role of Legal Services\"]    \n",
    "  \n",
    "ii)  [\"2019-09-05\", \"2019-09-05\"]    \n",
    "  \n",
    "iii) [[\"Ginther, Donna K\", \"Grasdal, Astrid L\", \"Pollak, Robert A\"],  \n",
    "      [\"Goodman-Bacon, Andrew\", \"Cunningham, Jamein P\"]]"
   ]
  },
  {
   "cell_type": "code",
   "execution_count": 22,
   "metadata": {},
   "outputs": [],
   "source": [
    "    def handle_data(self, data):\n",
    "        if self.match:\n",
    "            self.title = data\n",
    "            self.match = False"
   ]
  },
  {
   "cell_type": "code",
   "execution_count": 29,
   "metadata": {},
   "outputs": [
    {
     "ename": "SyntaxError",
     "evalue": "invalid syntax (<ipython-input-29-e4d3579cd965>, line 1)",
     "output_type": "error",
     "traceback": [
      "\u001b[0;36m  File \u001b[0;32m\"<ipython-input-29-e4d3579cd965>\"\u001b[0;36m, line \u001b[0;32m1\u001b[0m\n\u001b[0;31m    &lt;meta> \"2019/09/05\" name=\"citation_publication_date\"/>\u001b[0m\n\u001b[0m    ^\u001b[0m\n\u001b[0;31mSyntaxError\u001b[0m\u001b[0;31m:\u001b[0m invalid syntax\n"
     ]
    }
   ],
   "source": [
    "&lt;meta> \"2019/09/05\" name=\"citation_publication_date\"/>"
   ]
  },
  {
   "cell_type": "code",
   "execution_count": 31,
   "metadata": {},
   "outputs": [
    {
     "ename": "SyntaxError",
     "evalue": "invalid syntax (<ipython-input-31-cc94a8a3f6c6>, line 1)",
     "output_type": "error",
     "traceback": [
      "\u001b[0;36m  File \u001b[0;32m\"<ipython-input-31-cc94a8a3f6c6>\"\u001b[0;36m, line \u001b[0;32m1\u001b[0m\n\u001b[0;31m    &lt;meta content=\"Ginther, Donna K\"\u001b[0m\n\u001b[0m    ^\u001b[0m\n\u001b[0;31mSyntaxError\u001b[0m\u001b[0;31m:\u001b[0m invalid syntax\n"
     ]
    }
   ],
   "source": [
    "&lt;meta content=\"Ginther, Donna K\""
   ]
  },
  {
   "cell_type": "code",
   "execution_count": 32,
   "metadata": {},
   "outputs": [
    {
     "ename": "SyntaxError",
     "evalue": "invalid syntax (<ipython-input-32-7569102da3d1>, line 1)",
     "output_type": "error",
     "traceback": [
      "\u001b[0;36m  File \u001b[0;32m\"<ipython-input-32-7569102da3d1>\"\u001b[0;36m, line \u001b[0;32m1\u001b[0m\n\u001b[0;31m    &lt;p style=\"margin-left: 40px; margin-right: 40px; text-align: justify\">\u001b[0m\n\u001b[0m    ^\u001b[0m\n\u001b[0;31mSyntaxError\u001b[0m\u001b[0;31m:\u001b[0m invalid syntax\n"
     ]
    }
   ],
   "source": [
    "&lt;p style=\"margin-left: 40px; margin-right: 40px; text-align: justify\">"
   ]
  },
  {
   "cell_type": "code",
   "execution_count": 33,
   "metadata": {},
   "outputs": [
    {
     "ename": "SyntaxError",
     "evalue": "invalid syntax (<ipython-input-33-d92f0b04a2c6>, line 2)",
     "output_type": "error",
     "traceback": [
      "\u001b[0;36m  File \u001b[0;32m\"<ipython-input-33-d92f0b04a2c6>\"\u001b[0;36m, line \u001b[0;32m2\u001b[0m\n\u001b[0;31m    \"Changes in Family Structure and Welfare Participation Since the 1960s: The Role of Legal Services\"])\u001b[0m\n\u001b[0m                                                                                                       ^\u001b[0m\n\u001b[0;31mSyntaxError\u001b[0m\u001b[0;31m:\u001b[0m invalid syntax\n"
     ]
    }
   ],
   "source": [
    "'re.findall'('meta.* ' \"Fathers' Multiple-Partner Fertility and Children's Educational Outcomes\",  \n",
    "      \"Changes in Family Structure and Welfare Participation Since the 1960s: The Role of Legal Services\"])"
   ]
  },
  {
   "cell_type": "code",
   "execution_count": 34,
   "metadata": {},
   "outputs": [
    {
     "ename": "NameError",
     "evalue": "name 're' is not defined",
     "output_type": "error",
     "traceback": [
      "\u001b[0;31m---------------------------------------------------------------------------\u001b[0m",
      "\u001b[0;31mNameError\u001b[0m                                 Traceback (most recent call last)",
      "\u001b[0;32m<ipython-input-34-568b8ad1f293>\u001b[0m in \u001b[0;36m<module>\u001b[0;34m\u001b[0m\n\u001b[0;32m----> 1\u001b[0;31m \u001b[0mre\u001b[0m\u001b[0;34m.\u001b[0m\u001b[0mfindall\u001b[0m \u001b[0;34m(\u001b[0m\u001b[0;34m'<meta.*'\u001b[0m\u001b[0;34m,\u001b[0m\u001b[0mtext\u001b[0m\u001b[0;34m)\u001b[0m\u001b[0;34m\u001b[0m\u001b[0;34m\u001b[0m\u001b[0m\n\u001b[0m",
      "\u001b[0;31mNameError\u001b[0m: name 're' is not defined"
     ]
    }
   ],
   "source": [
    "re.findall ('<meta.*',text)"
   ]
  },
  {
   "cell_type": "code",
   "execution_count": 35,
   "metadata": {},
   "outputs": [
    {
     "ename": "NameError",
     "evalue": "name 're' is not defined",
     "output_type": "error",
     "traceback": [
      "\u001b[0;31m---------------------------------------------------------------------------\u001b[0m",
      "\u001b[0;31mNameError\u001b[0m                                 Traceback (most recent call last)",
      "\u001b[0;32m<ipython-input-35-fde46487c74b>\u001b[0m in \u001b[0;36m<module>\u001b[0;34m\u001b[0m\n\u001b[0;32m----> 1\u001b[0;31m \u001b[0mre\u001b[0m\u001b[0;34m.\u001b[0m \u001b[0mfindall\u001b[0m\u001b[0;34m(\u001b[0m\u001b[0;34m'meta.*>'\u001b[0m\u001b[0;34m,\u001b[0m \u001b[0mtext\u001b[0m\u001b[0;34m)\u001b[0m\u001b[0;34m\u001b[0m\u001b[0;34m\u001b[0m\u001b[0m\n\u001b[0m",
      "\u001b[0;31mNameError\u001b[0m: name 're' is not defined"
     ]
    }
   ],
   "source": [
    "re. findall('meta.*>', text)"
   ]
  },
  {
   "cell_type": "code",
   "execution_count": null,
   "metadata": {},
   "outputs": [],
   "source": []
  }
 ],
 "metadata": {
  "kernelspec": {
   "display_name": "Python 3",
   "language": "python",
   "name": "python3"
  },
  "language_info": {
   "codemirror_mode": {
    "name": "ipython",
    "version": 3
   },
   "file_extension": ".py",
   "mimetype": "text/x-python",
   "name": "python",
   "nbconvert_exporter": "python",
   "pygments_lexer": "ipython3",
   "version": "3.7.3"
  }
 },
 "nbformat": 4,
 "nbformat_minor": 2
}
